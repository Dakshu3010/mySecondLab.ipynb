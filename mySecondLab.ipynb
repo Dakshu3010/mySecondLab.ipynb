{
  "nbformat": 4,
  "nbformat_minor": 0,
  "metadata": {
    "colab": {
      "name": "mySecondLab.ipynb",
      "provenance": [],
      "authorship_tag": "ABX9TyO7TXsaOA9SfkkfbR1FIG6R",
      "include_colab_link": true
    },
    "kernelspec": {
      "name": "python3",
      "display_name": "Python 3"
    },
    "language_info": {
      "name": "python"
    }
  },
  "cells": [
    {
      "cell_type": "markdown",
      "metadata": {
        "id": "view-in-github",
        "colab_type": "text"
      },
      "source": [
        "<a href=\"https://colab.research.google.com/github/Dakshu3010/mySecondLab.ipynb/blob/main/mySecondLab.ipynb\" target=\"_parent\"><img src=\"https://colab.research.google.com/assets/colab-badge.svg\" alt=\"Open In Colab\"/></a>"
      ]
    },
    {
      "cell_type": "code",
      "execution_count": 1,
      "metadata": {
        "colab": {
          "base_uri": "https://localhost:8080/"
        },
        "id": "pPRRgYvYn4Kk",
        "outputId": "23a38d89-38d8-4c90-f622-6b788ee9d4ea"
      },
      "outputs": [
        {
          "output_type": "stream",
          "name": "stdout",
          "text": [
            "10 100 200 300\n",
            "10.5 150.0\n",
            "3.14j 3.14 0.0\n"
          ]
        }
      ],
      "source": [
        "a=0b1010\n",
        "b=100\n",
        "c=0o310\n",
        "d=0x12c\n",
        "float_1=10.5\n",
        "float_2=1.5e2\n",
        "x=3.14j\n",
        "print(a,b,c,d)\n",
        "print(float_1,float_2)\n",
        "print(x,x.imag,x.real)"
      ]
    },
    {
      "cell_type": "code",
      "source": [
        "strings=\"This is Python\"\n",
        "char=\"C\"\n",
        "multiline_str=\"\"\"This is a multiline string with more than one line code\"\"\"\n",
        "unicode=u\"\\u00dcnic\\u00f6de\"\n",
        "raw_str=r\"raw \\n string\"\n",
        "print(strings)\n",
        "print(char)\n",
        "print(multiline_str)\n",
        "print(unicode)\n",
        "print(raw_str)"
      ],
      "metadata": {
        "colab": {
          "base_uri": "https://localhost:8080/"
        },
        "id": "Oe9HK1a5pjkn",
        "outputId": "a2575c36-b19d-4caf-e57d-fc625bf5f353"
      },
      "execution_count": 2,
      "outputs": [
        {
          "output_type": "stream",
          "name": "stdout",
          "text": [
            "This is Python\n",
            "C\n",
            "This is a multiline string with more than one line code\n",
            "Ünicöde\n",
            "raw \\n string\n"
          ]
        }
      ]
    },
    {
      "cell_type": "code",
      "source": [
        "x=(1==True)\n",
        "y=(1==False)\n",
        "a=True+4\n",
        "b=False+10\n",
        "print(\"x is\",x)\n",
        "print(\"y is\",y)\n",
        "print(\"a:\",a)\n",
        "print(\"b:\",b)"
      ],
      "metadata": {
        "colab": {
          "base_uri": "https://localhost:8080/"
        },
        "id": "Dgwgey9er0r3",
        "outputId": "ddeedf91-0c1d-457c-f928-1ef35cef7745"
      },
      "execution_count": 14,
      "outputs": [
        {
          "output_type": "stream",
          "name": "stdout",
          "text": [
            "x is True\n",
            "y is False\n",
            "a: 5\n",
            "b: 10\n"
          ]
        }
      ]
    },
    {
      "cell_type": "code",
      "source": [
        "drink = \"Available\"\n",
        "food = None\n",
        "\n",
        "def menu(x):\n",
        "    if x == drink:\n",
        "        print(drink)\n",
        "    else:\n",
        "        print(food)\n",
        "\n",
        "menu(drink)\n",
        "menu(food)\n"
      ],
      "metadata": {
        "colab": {
          "base_uri": "https://localhost:8080/"
        },
        "id": "Dcgorp4et7JO",
        "outputId": "b6804f33-3282-4b07-fdb6-ed2b424e173f"
      },
      "execution_count": 31,
      "outputs": [
        {
          "output_type": "stream",
          "name": "stdout",
          "text": [
            "Available\n",
            "None\n"
          ]
        }
      ]
    },
    {
      "cell_type": "code",
      "source": [
        "fruits = [\"apple\", \"mango\", \"orange\"]\n",
        "numbers = (1, 2, 3)\n",
        "alphabets = {'a':'apple', 'b':'ball', 'c':'cat'}\n",
        "vowels = {'a', 'e', 'i' , 'o', 'u'}\n",
        "\n",
        "print(fruits)\n",
        "print(numbers)\n",
        "print(alphabets)\n",
        "print(vowels)\n"
      ],
      "metadata": {
        "colab": {
          "base_uri": "https://localhost:8080/"
        },
        "id": "jS7SG7uVt8PY",
        "outputId": "eaf33c85-72a1-4e1d-bfee-5036093c6404"
      },
      "execution_count": 30,
      "outputs": [
        {
          "output_type": "stream",
          "name": "stdout",
          "text": [
            "['apple', 'mango', 'orange']\n",
            "(1, 2, 3)\n",
            "{'a': 'apple', 'b': 'ball', 'c': 'cat'}\n",
            "{'e', 'a', 'i', 'o', 'u'}\n"
          ]
        }
      ]
    },
    {
      "cell_type": "code",
      "source": [
        "value1=eval(input('Enter first number'))\n",
        "value2=eval(input('Enter second number'))\n",
        "sum=value1+value2\n",
        "print(value1,'+',value2,'=',sum)"
      ],
      "metadata": {
        "colab": {
          "base_uri": "https://localhost:8080/"
        },
        "id": "dRR9CThnuf3g",
        "outputId": "85719aee-4d07-4f30-96e1-fbf4f4e03571"
      },
      "execution_count": 33,
      "outputs": [
        {
          "output_type": "stream",
          "name": "stdout",
          "text": [
            "Enter first number130\n",
            "Enter second number710\n",
            "130 + 710 = 840\n"
          ]
        }
      ]
    },
    {
      "cell_type": "code",
      "source": [
        "x=7\n",
        "y=10\n",
        "x+y"
      ],
      "metadata": {
        "colab": {
          "base_uri": "https://localhost:8080/"
        },
        "id": "DyFS8NJ1wKCP",
        "outputId": "12efccd0-b86b-4aae-95a1-086f6363c869"
      },
      "execution_count": 35,
      "outputs": [
        {
          "output_type": "execute_result",
          "data": {
            "text/plain": [
              "17"
            ]
          },
          "metadata": {},
          "execution_count": 35
        }
      ]
    },
    {
      "cell_type": "code",
      "source": [
        "x=\"1\"\n",
        "y=\"30\"\n",
        "x+y"
      ],
      "metadata": {
        "colab": {
          "base_uri": "https://localhost:8080/",
          "height": 35
        },
        "id": "tLqM_fOgwaZe",
        "outputId": "9823b4ff-fd57-43a1-cce4-9c8c0647779d"
      },
      "execution_count": 39,
      "outputs": [
        {
          "output_type": "execute_result",
          "data": {
            "text/plain": [
              "'130'"
            ],
            "application/vnd.google.colaboratory.intrinsic+json": {
              "type": "string"
            }
          },
          "metadata": {},
          "execution_count": 39
        }
      ]
    },
    {
      "cell_type": "code",
      "source": [
        "x=31\n",
        "y=30\n",
        "x-y"
      ],
      "metadata": {
        "colab": {
          "base_uri": "https://localhost:8080/"
        },
        "id": "j2_3rIugwhv2",
        "outputId": "4b1b66a5-1358-4677-dbfa-abde6d6092c4"
      },
      "execution_count": 40,
      "outputs": [
        {
          "output_type": "execute_result",
          "data": {
            "text/plain": [
              "1"
            ]
          },
          "metadata": {},
          "execution_count": 40
        }
      ]
    },
    {
      "cell_type": "code",
      "source": [
        "x=17\n",
        "y=31\n",
        "x*y"
      ],
      "metadata": {
        "colab": {
          "base_uri": "https://localhost:8080/"
        },
        "id": "5SgEiEiZw774",
        "outputId": "ab20d45b-bbf1-4282-a974-24c59dbcf66e"
      },
      "execution_count": 42,
      "outputs": [
        {
          "output_type": "execute_result",
          "data": {
            "text/plain": [
              "527"
            ]
          },
          "metadata": {},
          "execution_count": 42
        }
      ]
    },
    {
      "cell_type": "code",
      "source": [
        "x=\"130\"\n",
        "y=17\n",
        "x*y"
      ],
      "metadata": {
        "colab": {
          "base_uri": "https://localhost:8080/",
          "height": 35
        },
        "id": "CYCQHenBxI3O",
        "outputId": "56b0019e-2df1-4429-89b9-eae1505fd3ab"
      },
      "execution_count": 44,
      "outputs": [
        {
          "output_type": "execute_result",
          "data": {
            "text/plain": [
              "'130130130130130130130130130130130130130130130130130'"
            ],
            "application/vnd.google.colaboratory.intrinsic+json": {
              "type": "string"
            }
          },
          "metadata": {},
          "execution_count": 44
        }
      ]
    },
    {
      "cell_type": "code",
      "source": [
        "x=31\n",
        "y=\"17\"\n",
        "x*y"
      ],
      "metadata": {
        "colab": {
          "base_uri": "https://localhost:8080/",
          "height": 35
        },
        "id": "OePgZhloxbWQ",
        "outputId": "3a16e457-4f36-459d-fff8-297a35e4c732"
      },
      "execution_count": 46,
      "outputs": [
        {
          "output_type": "execute_result",
          "data": {
            "text/plain": [
              "'17171717171717171717171717171717171717171717171717171717171717'"
            ],
            "application/vnd.google.colaboratory.intrinsic+json": {
              "type": "string"
            }
          },
          "metadata": {},
          "execution_count": 46
        }
      ]
    },
    {
      "cell_type": "code",
      "source": [
        "x=130\n",
        "y=30\n",
        "x/y"
      ],
      "metadata": {
        "colab": {
          "base_uri": "https://localhost:8080/"
        },
        "id": "60hyDBAZxr9e",
        "outputId": "0a9a7290-a294-4908-8fa0-08cee533e5ce"
      },
      "execution_count": 50,
      "outputs": [
        {
          "output_type": "execute_result",
          "data": {
            "text/plain": [
              "4.333333333333333"
            ]
          },
          "metadata": {},
          "execution_count": 50
        }
      ]
    },
    {
      "cell_type": "code",
      "source": [
        "x=130\n",
        "y=30\n",
        "x//y"
      ],
      "metadata": {
        "colab": {
          "base_uri": "https://localhost:8080/"
        },
        "id": "ULx5Lc_9x696",
        "outputId": "9f43dd40-314d-45aa-f33e-9460abd46940"
      },
      "execution_count": 52,
      "outputs": [
        {
          "output_type": "execute_result",
          "data": {
            "text/plain": [
              "4"
            ]
          },
          "metadata": {},
          "execution_count": 52
        }
      ]
    },
    {
      "cell_type": "code",
      "source": [
        "x=10\n",
        "y=10\n",
        "x%y"
      ],
      "metadata": {
        "colab": {
          "base_uri": "https://localhost:8080/"
        },
        "id": "uLpS83DtyFqA",
        "outputId": "7264c266-f497-42d5-ac41-ed621c4c37a4"
      },
      "execution_count": 54,
      "outputs": [
        {
          "output_type": "execute_result",
          "data": {
            "text/plain": [
              "0"
            ]
          },
          "metadata": {},
          "execution_count": 54
        }
      ]
    },
    {
      "cell_type": "code",
      "source": [
        "x**y"
      ],
      "metadata": {
        "colab": {
          "base_uri": "https://localhost:8080/"
        },
        "id": "Hu6tnyFayNTm",
        "outputId": "d694ab0c-256c-4e2c-953a-1be9464ea0d9"
      },
      "execution_count": 55,
      "outputs": [
        {
          "output_type": "execute_result",
          "data": {
            "text/plain": [
              "10000000000"
            ]
          },
          "metadata": {},
          "execution_count": 55
        }
      ]
    },
    {
      "cell_type": "code",
      "source": [
        "x=2\n",
        "x=x+2"
      ],
      "metadata": {
        "id": "Rv9Wf7u2ykK1"
      },
      "execution_count": 73,
      "outputs": []
    },
    {
      "cell_type": "code",
      "source": [
        "x"
      ],
      "metadata": {
        "colab": {
          "base_uri": "https://localhost:8080/"
        },
        "id": "N7mh0YXxzA98",
        "outputId": "7f79f210-9faf-4477-b3f2-2e9018be9993"
      },
      "execution_count": 74,
      "outputs": [
        {
          "output_type": "execute_result",
          "data": {
            "text/plain": [
              "4"
            ]
          },
          "metadata": {},
          "execution_count": 74
        }
      ]
    },
    {
      "cell_type": "code",
      "source": [
        "x=x+2"
      ],
      "metadata": {
        "id": "d2bG1QuizJOk"
      },
      "execution_count": 76,
      "outputs": []
    },
    {
      "cell_type": "code",
      "source": [
        "x"
      ],
      "metadata": {
        "colab": {
          "base_uri": "https://localhost:8080/"
        },
        "id": "1jOfk5vqzS5b",
        "outputId": "9a8e016a-edf0-4927-be6d-d4053e61a0fa"
      },
      "execution_count": 77,
      "outputs": [
        {
          "output_type": "execute_result",
          "data": {
            "text/plain": [
              "6"
            ]
          },
          "metadata": {},
          "execution_count": 77
        }
      ]
    },
    {
      "cell_type": "code",
      "source": [
        "x*4"
      ],
      "metadata": {
        "colab": {
          "base_uri": "https://localhost:8080/"
        },
        "id": "0LOkCXaizVZT",
        "outputId": "be56df0c-14ae-4977-aeab-cf44d8521a1f"
      },
      "execution_count": 79,
      "outputs": [
        {
          "output_type": "execute_result",
          "data": {
            "text/plain": [
              "24"
            ]
          },
          "metadata": {},
          "execution_count": 79
        }
      ]
    },
    {
      "cell_type": "code",
      "source": [
        "x=130\n",
        "y=710\n",
        "print('x+y=',x+y)\n",
        "print('x-y=',x-y)\n",
        "print('x*y=',x*y)\n",
        "print('x/y=',x/y)\n",
        "print('x//y=',x//y)\n",
        "print('x**y=',x**y)\n",
        "\n",
        "\n",
        "\n",
        "\n"
      ],
      "metadata": {
        "colab": {
          "base_uri": "https://localhost:8080/"
        },
        "id": "RjwmWqSRzxLj",
        "outputId": "2bdb1792-4058-476c-cad3-e5e6a878c5ca"
      },
      "execution_count": 80,
      "outputs": [
        {
          "output_type": "stream",
          "name": "stdout",
          "text": [
            "x+y= 840\n",
            "x-y= -580\n",
            "x*y= 92300\n",
            "x/y= 0.18309859154929578\n",
            "x//y= 0\n",
            "x**y= 7939262067952716268634324287744205305373373612897649304667878229242318156176883218276317428975539264818646384125002255172105340107656563925482497571404105869774282864044261609786327348780970324683235880209038505102815355592423906351759076748293729575544225328953183743235984179168023248868194818997027959128269835923681195535242383103555651796298371575237972749572744742166779090738290494508670791735357709085160558309815901469298310792408946352744652291728678375451019041824113307352908256750545563404597015306871892750356905578981792746595235736053077092371482439201034506931743276166767430876649777352784327599077366780166118163439570080121978075049531104062416146337803864937560011015700679153959453315906911572092255190606568667577486795519411462123835710883939186524035858650726363384900000000000000000000000000000000000000000000000000000000000000000000000000000000000000000000000000000000000000000000000000000000000000000000000000000000000000000000000000000000000000000000000000000000000000000000000000000000000000000000000000000000000000000000000000000000000000000000000000000000000000000000000000000000000000000000000000000000000000000000000000000000000000000000000000000000000000000000000000000000000000000000000000000000000000000000000000000000000000000000000000000000000000000000000000000000000000000000000000000000000000000000000000000000000000000000000000000000000000000000000000000000000000000000000000000000000000000000000000000000000000000000000000000000000000000000000000000000000000\n"
          ]
        }
      ]
    },
    {
      "cell_type": "code",
      "source": [
        "print (\"Choice 1: Add, 2: Sub, 3: Div, 4: Mul, 5: Quit\")\n",
        "n1 = input(\"Enter the choice of operation :\")\n",
        "n = int(n1)\n",
        "if (n == 1):\n",
        "    print (\" You have chosen addition Option :\")\n",
        "    a1 = input(\" Enter the value for A :\")\n",
        "    b1 = input(\" Enter the value for B :\")\n",
        "    a = int(a1)\n",
        "    b = int(b1)\n",
        "    c = a + b\n",
        "    print (\"The Result\",a,\"+\",b,\"=\",c)\n",
        "elif (n == 2):\n",
        "    print (\" You have chosen subtraction Option :\")\n",
        "    a1 = input(\" Enter the value for A :\")\n",
        "    b1 = input(\" Enter the value for B :\")\n",
        "    a = int(a1)\n",
        "    b = int(b1)\n",
        "    c = a - b\n",
        "    print (\"The Result\",a,\"-\",b,\"=\",c)\n",
        "elif (n == 3):\n",
        "    print (\" You have chosen division Option :\")\n",
        "    a1 = input(\" Enter the value for A :\")\n",
        "    b1 = input(\" Enter the value for B :\")\n",
        "    a = int(a1)\n",
        "    b = int(b1)\n",
        "    c = a / b\n",
        "    print (\"The Result\",a,\"/\",b,\"=\",c)\n",
        "elif (n == 4):\n",
        "    print (\" You have chosen multiplication Option :\")\n",
        "    a1 = input (\" Enter the value for A :\")\n",
        "    b1 = input (\" Enter the value for B :\")\n",
        "    a = int (a1)\n",
        "    b = int (b1)\n",
        "    c = a * b\n",
        "    print (\"The Result\",a,\"*\",b,\"=\",c)\n",
        "elif (n==5):\n",
        "    print (\" You have given a wrong :\",n)\n",
        "    exit ()\n",
        "\n"
      ],
      "metadata": {
        "colab": {
          "base_uri": "https://localhost:8080/"
        },
        "id": "56u6QN2H0lBI",
        "outputId": "8dfa139f-f137-4dc7-adeb-e2967bb26001"
      },
      "execution_count": 84,
      "outputs": [
        {
          "output_type": "stream",
          "name": "stdout",
          "text": [
            "Choice 1: Add, 2: Sub, 3: Div, 4: Mul, 5: Quit\n",
            "Enter the choice of operation :1\n",
            " You have chosen addition Option :\n",
            " Enter the value for A :130\n",
            " Enter the value for B :710\n",
            "The Result 130 + 710 = 840\n"
          ]
        }
      ]
    },
    {
      "cell_type": "code",
      "source": [
        "x=20+20.5\n",
        "print(\"+ operator is Evaluated=\",x)\n"
      ],
      "metadata": {
        "colab": {
          "base_uri": "https://localhost:8080/"
        },
        "id": "hFlJ3Dz05XZ2",
        "outputId": "51b92ae4-d5d4-4137-dfae-46ad86c37ed1"
      },
      "execution_count": 86,
      "outputs": [
        {
          "output_type": "stream",
          "name": "stdout",
          "text": [
            "+ operator is Evaluated= 40.5\n"
          ]
        }
      ]
    },
    {
      "cell_type": "code",
      "source": [
        "x=200+20.0*5\n",
        "print(\"* operator is Evaluated=\",x)\n"
      ],
      "metadata": {
        "colab": {
          "base_uri": "https://localhost:8080/"
        },
        "id": "AOW_K4hu5rYn",
        "outputId": "bafef7db-faea-45e4-e34b-4a6f7b3ef72e"
      },
      "execution_count": 87,
      "outputs": [
        {
          "output_type": "stream",
          "name": "stdout",
          "text": [
            "* operator is Evaluated= 300.0\n"
          ]
        }
      ]
    },
    {
      "cell_type": "code",
      "source": [
        "x=20+20/2*5\n",
        "print(\"/ operator is Evaluated=\",x)\n"
      ],
      "metadata": {
        "colab": {
          "base_uri": "https://localhost:8080/"
        },
        "id": "m-FA1Rqh51SE",
        "outputId": "8bb861ad-8fb1-4e99-8d5d-2b54526a3e0f"
      },
      "execution_count": 88,
      "outputs": [
        {
          "output_type": "stream",
          "name": "stdout",
          "text": [
            "/ operator is Evaluated= 70.0\n"
          ]
        }
      ]
    },
    {
      "cell_type": "code",
      "source": [
        "x=100*5+(10%2**1)\n",
        "print(x)"
      ],
      "metadata": {
        "colab": {
          "base_uri": "https://localhost:8080/"
        },
        "id": "z0sXGN0s5-Os",
        "outputId": "9a3349fd-002f-44b8-8cbc-c8410789b15d"
      },
      "execution_count": 89,
      "outputs": [
        {
          "output_type": "stream",
          "name": "stdout",
          "text": [
            "500\n"
          ]
        }
      ]
    },
    {
      "cell_type": "code",
      "source": [
        "x=10\n",
        "x+=1\n",
        "print(x)"
      ],
      "metadata": {
        "colab": {
          "base_uri": "https://localhost:8080/"
        },
        "id": "EZ_4_Q136Mwb",
        "outputId": "324c5766-f50c-4deb-e12a-ce42dc73dc3a"
      },
      "execution_count": 90,
      "outputs": [
        {
          "output_type": "stream",
          "name": "stdout",
          "text": [
            "11\n"
          ]
        }
      ]
    },
    {
      "cell_type": "code",
      "source": [
        "x=10\n",
        "x-=1\n",
        "print(x)"
      ],
      "metadata": {
        "colab": {
          "base_uri": "https://localhost:8080/"
        },
        "id": "LxGq283b6ZzD",
        "outputId": "512a5c31-37a6-4cb8-f0e8-da438c5b04a0"
      },
      "execution_count": 91,
      "outputs": [
        {
          "output_type": "stream",
          "name": "stdout",
          "text": [
            "9\n"
          ]
        }
      ]
    },
    {
      "cell_type": "code",
      "source": [
        "x=5\n",
        "x*=5\n",
        "print(x)"
      ],
      "metadata": {
        "colab": {
          "base_uri": "https://localhost:8080/"
        },
        "id": "DIbs9PTj6eca",
        "outputId": "518f7d85-5408-413e-fce2-539af3b9799e"
      },
      "execution_count": 92,
      "outputs": [
        {
          "output_type": "stream",
          "name": "stdout",
          "text": [
            "25\n"
          ]
        }
      ]
    },
    {
      "cell_type": "code",
      "source": [
        "print (\" Fibonacci Series\")\n",
        "n1 = input(\"Enter the number : \")\n",
        "n = int(n1)\n",
        "if (n>0):\n",
        "    f = 0\n",
        "    s = 1\n",
        "    i = 0\n",
        "    next = 0\n",
        "    while (1):\n",
        "        print (\"\\n\\n*******************************************\")\n",
        "        for i in range (n+1):\n",
        "            if (i <= 1):\n",
        "                print(i)\n",
        "            else:\n",
        "                next = f + s\n",
        "                f = s\n",
        "                s = next\n",
        "                print (next)\n",
        "        i = i + 1\n",
        "        break\n",
        "else:\n",
        " print (\" You have entered wrong input\", n)"
      ],
      "metadata": {
        "colab": {
          "base_uri": "https://localhost:8080/"
        },
        "id": "BSD-xPbp6r2y",
        "outputId": "b78a4610-07b5-483b-ab7c-148ca9f4825d"
      },
      "execution_count": 96,
      "outputs": [
        {
          "output_type": "stream",
          "name": "stdout",
          "text": [
            " Fibonacci Series\n",
            "Enter the number : 7\n",
            "\n",
            "\n",
            "*******************************************\n",
            "0\n",
            "1\n",
            "1\n",
            "2\n",
            "3\n",
            "5\n",
            "8\n",
            "13\n"
          ]
        }
      ]
    },
    {
      "cell_type": "code",
      "source": [
        "colors=['red',\n",
        "        'blue',\n",
        "        'green']\n",
        "print(colors)"
      ],
      "metadata": {
        "colab": {
          "base_uri": "https://localhost:8080/"
        },
        "id": "WlqXcvUH7d4Q",
        "outputId": "b59326e6-042a-4940-d268-f6b4641f95f0"
      },
      "execution_count": 97,
      "outputs": [
        {
          "output_type": "stream",
          "name": "stdout",
          "text": [
            "['red', 'blue', 'green']\n"
          ]
        }
      ]
    },
    {
      "cell_type": "code",
      "source": [
        "num1=int(input(\"Enter first number\"))\n",
        "num2=int(input(\"Enter second number\"))\n",
        "SumValue=(num1-num2)\n",
        "print(\"the sum of the given number is\",SumValue)"
      ],
      "metadata": {
        "colab": {
          "base_uri": "https://localhost:8080/"
        },
        "id": "ljGaagTM7xW-",
        "outputId": "b574eec1-b8fa-4639-b4ce-75469c09bb2c"
      },
      "execution_count": 107,
      "outputs": [
        {
          "output_type": "stream",
          "name": "stdout",
          "text": [
            "Enter first number710\n",
            "Enter second number130\n",
            "the sum of the given number is 580\n"
          ]
        }
      ]
    },
    {
      "cell_type": "code",
      "source": [
        "x = 10\n",
        "y = 12\n",
        "\n",
        "print('x > y is',x>y)\n",
        "\n",
        "print('x < y is',x<y)\n",
        "\n",
        "print('x == y is',x==y)\n",
        "\n",
        "print('x != y is',x!=y)\n",
        "\n",
        "print('x >= y is',x>=y)\n",
        "\n",
        "print('x <= y is',x<=y)"
      ],
      "metadata": {
        "colab": {
          "base_uri": "https://localhost:8080/"
        },
        "id": "cObKtCxS9-0X",
        "outputId": "a34839e2-6f0c-4703-a715-c8899be5f6bc"
      },
      "execution_count": 108,
      "outputs": [
        {
          "output_type": "stream",
          "name": "stdout",
          "text": [
            "x > y is False\n",
            "x < y is True\n",
            "x == y is False\n",
            "x != y is True\n",
            "x >= y is False\n",
            "x <= y is True\n"
          ]
        }
      ]
    },
    {
      "cell_type": "code",
      "source": [
        "x = True\n",
        "y = False\n",
        "\n",
        "print('x and y is',x and y)\n",
        "\n",
        "print('x or y is',x or y)\n",
        "\n",
        "print('not x is',not x)"
      ],
      "metadata": {
        "colab": {
          "base_uri": "https://localhost:8080/"
        },
        "id": "rFrCONXt-7mj",
        "outputId": "bfbae77b-db41-4912-e8da-91d6b003e211"
      },
      "execution_count": 109,
      "outputs": [
        {
          "output_type": "stream",
          "name": "stdout",
          "text": [
            "x and y is False\n",
            "x or y is True\n",
            "not x is False\n"
          ]
        }
      ]
    },
    {
      "cell_type": "code",
      "source": [
        "x1 = 5\n",
        "y1 = 5\n",
        "x2 = 'Hello'\n",
        "y2 = 'Hello'\n",
        "x3 = [1,2,3]\n",
        "y3 = [1,2,3]\n",
        "\n",
        "print(x1 is not y1)\n",
        "\n",
        "print(x2 is y2)\n",
        "\n",
        "print(x3 is y3)"
      ],
      "metadata": {
        "colab": {
          "base_uri": "https://localhost:8080/"
        },
        "id": "WD8etzjr_Aek",
        "outputId": "44d9ea25-da95-4754-871d-86027d1408fd"
      },
      "execution_count": 110,
      "outputs": [
        {
          "output_type": "stream",
          "name": "stdout",
          "text": [
            "False\n",
            "True\n",
            "False\n"
          ]
        }
      ]
    },
    {
      "cell_type": "code",
      "source": [
        "x = 'Hello world'\n",
        "y = {1:'a',2:'b'}\n",
        "\n",
        "print('H' in x)\n",
        "\n",
        "print('hello' not in x)\n",
        "\n",
        "print(1 in y)\n",
        "\n",
        "print('a' in y)"
      ],
      "metadata": {
        "colab": {
          "base_uri": "https://localhost:8080/"
        },
        "id": "Ot3fCOa-_JHl",
        "outputId": "b38df8f0-7a81-48eb-b342-ace7486cef5a"
      },
      "execution_count": 111,
      "outputs": [
        {
          "output_type": "stream",
          "name": "stdout",
          "text": [
            "True\n",
            "True\n",
            "True\n",
            "False\n"
          ]
        }
      ]
    },
    {
      "cell_type": "code",
      "source": [
        "a=10\n",
        "b=4\n",
        "k=a&b\n",
        "print(k)"
      ],
      "metadata": {
        "colab": {
          "base_uri": "https://localhost:8080/"
        },
        "id": "svt2rj8P_RmF",
        "outputId": "1912c616-3a35-45ae-942e-222ef5d096ab"
      },
      "execution_count": 112,
      "outputs": [
        {
          "output_type": "stream",
          "name": "stdout",
          "text": [
            "0\n"
          ]
        }
      ]
    },
    {
      "cell_type": "code",
      "source": [
        "a=10\n",
        "b=4\n",
        "a|b\n",
        "print(a|b)"
      ],
      "metadata": {
        "colab": {
          "base_uri": "https://localhost:8080/"
        },
        "id": "EcYKQKZu_3ex",
        "outputId": "1a16091e-ecf2-4e42-839a-3e25ceca8d2e"
      },
      "execution_count": 113,
      "outputs": [
        {
          "output_type": "stream",
          "name": "stdout",
          "text": [
            "14\n"
          ]
        }
      ]
    },
    {
      "cell_type": "code",
      "source": [
        "a=10\n",
        "b=4\n",
        "print(\"~a =\",~a)"
      ],
      "metadata": {
        "colab": {
          "base_uri": "https://localhost:8080/"
        },
        "id": "28j_Bgb3ABlg",
        "outputId": "a7f22b6e-8ab9-4313-9cfa-8e2b32572adf"
      },
      "execution_count": 114,
      "outputs": [
        {
          "output_type": "stream",
          "name": "stdout",
          "text": [
            "~a = -11\n"
          ]
        }
      ]
    },
    {
      "cell_type": "code",
      "source": [
        "a=10\n",
        "b=-10\n",
        "print(\"a>>1=\",a>>1)\n",
        "print(\"b>>1=\",b>>1)\n"
      ],
      "metadata": {
        "colab": {
          "base_uri": "https://localhost:8080/"
        },
        "id": "d830BahLAP9I",
        "outputId": "6da3c174-5b82-4b24-8da4-62df803527c0"
      },
      "execution_count": 115,
      "outputs": [
        {
          "output_type": "stream",
          "name": "stdout",
          "text": [
            "a>>1= 5\n",
            "b>>1= -5\n"
          ]
        }
      ]
    }
  ]
}