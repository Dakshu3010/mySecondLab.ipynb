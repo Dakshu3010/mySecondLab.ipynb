{
  "nbformat": 4,
  "nbformat_minor": 0,
  "metadata": {
    "colab": {
      "name": "Untitled2.ipynb",
      "provenance": [],
      "authorship_tag": "ABX9TyOQjTxzhnCEXwmdWuNXMY9e",
      "include_colab_link": true
    },
    "kernelspec": {
      "name": "python3",
      "display_name": "Python 3"
    },
    "language_info": {
      "name": "python"
    }
  },
  "cells": [
    {
      "cell_type": "markdown",
      "metadata": {
        "id": "view-in-github",
        "colab_type": "text"
      },
      "source": [
        "<a href=\"https://colab.research.google.com/github/Dakshu3010/mySecondLab.ipynb/blob/main/lab.ipynb\" target=\"_parent\"><img src=\"https://colab.research.google.com/assets/colab-badge.svg\" alt=\"Open In Colab\"/></a>"
      ]
    },
    {
      "cell_type": "code",
      "execution_count": 1,
      "metadata": {
        "colab": {
          "base_uri": "https://localhost:8080/"
        },
        "id": "Ok1sVjSiPXyZ",
        "outputId": "3d737bde-d1eb-42f0-a2ac-6778410ffda5"
      },
      "outputs": [
        {
          "output_type": "stream",
          "name": "stdout",
          "text": [
            "7 is a positive number.\n",
            "Program is executed successfully\n",
            "Program is executed successfully\n"
          ]
        }
      ],
      "source": [
        "num=7\n",
        "if num > 0:\n",
        "  print(num, \"is a positive number.\")\n",
        "print(\"Program is executed successfully\")\n",
        "\n",
        "num=-6\n",
        "if num > 0:\n",
        "  print(num, \"is a positive number.\")\n",
        "print(\"Program is executed successfully\")\n"
      ]
    },
    {
      "cell_type": "code",
      "source": [
        "num=7\n",
        "if num >=0:\n",
        "   print(\"Positive or Negative\")\n",
        "else:\n",
        "   print(\"Negative number\")"
      ],
      "metadata": {
        "colab": {
          "base_uri": "https://localhost:8080/"
        },
        "id": "UBpF8gr_TYZ6",
        "outputId": "2258fcb9-1dab-46df-f0a6-75690393272e"
      },
      "execution_count": 3,
      "outputs": [
        {
          "output_type": "stream",
          "name": "stdout",
          "text": [
            "Positive or Negative\n"
          ]
        }
      ]
    },
    {
      "cell_type": "code",
      "source": [
        "num=7\n",
        "if num > 0:\n",
        "  print(\"Positive number\")\n",
        "elif num == 0:\n",
        "  print(\"Zero\")\n",
        "else:\n",
        "  print(\"Negative number\")\n"
      ],
      "metadata": {
        "colab": {
          "base_uri": "https://localhost:8080/"
        },
        "id": "F5mXYChPUu64",
        "outputId": "abeb0821-2950-434b-fe78-851a3f98781d"
      },
      "execution_count": 8,
      "outputs": [
        {
          "output_type": "stream",
          "name": "stdout",
          "text": [
            "Positive number\n"
          ]
        }
      ]
    },
    {
      "cell_type": "code",
      "source": [
        "num = float(input(\"Enter a number: \"))\n",
        "if num >= 0:\n",
        "  if num == 0:\n",
        "      print(\"Zero\")\n",
        "  else:\n",
        "      print(\"Positive number\")\n",
        "else:\n",
        "  print(\"Negative number\")\n"
      ],
      "metadata": {
        "colab": {
          "base_uri": "https://localhost:8080/"
        },
        "id": "_GDthDBnY33B",
        "outputId": "ccda06c4-d18b-4b26-f048-d8cbd4af443c"
      },
      "execution_count": 12,
      "outputs": [
        {
          "output_type": "stream",
          "name": "stdout",
          "text": [
            "Enter a number: 130\n",
            "Positive number\n"
          ]
        }
      ]
    }
  ]
}